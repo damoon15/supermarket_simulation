{
 "cells": [
  {
   "cell_type": "code",
   "execution_count": 1,
   "id": "5e372a7b",
   "metadata": {},
   "outputs": [],
   "source": [
    "# calculate transition matrix for each section\n",
    "\n",
    "import datetime\n",
    "import pandas as pd"
   ]
  },
  {
   "cell_type": "code",
   "execution_count": 2,
   "id": "740c88f1",
   "metadata": {},
   "outputs": [],
   "source": [
    "# correct data (customers with no marked checkout)\n",
    "\n",
    "def missing_checkout(data): # fixes data quality issue:\n",
    "                            # last customers of the day are missing from checkout\n",
    "\n",
    "    data[\"timestamp\"] = pd.to_datetime(data[\"timestamp\"])\n",
    "    data.set_index(\"timestamp\", inplace=True)\n",
    "\n",
    "    checkout = set(data[data[\"location\"] == \"checkout\"]\n",
    "                   [\"customer_no\"].unique())\n",
    "    all_c = set(data[\"customer_no\"].unique())\n",
    "    diff = all_c.difference(checkout)\n",
    "\n",
    "    current_date = data.index.date[0]\n",
    "    new_time_stemp = f\"{current_date} 22:00:00\"\n",
    "\n",
    "    data.reset_index(inplace=True)\n",
    "\n",
    "    for cust in diff:\n",
    "        data = data.append({\"timestamp\": pd.to_datetime(new_time_stemp),\n",
    "                            \"customer_no\": cust,\n",
    "                            \"location\": \"checkout\"},\n",
    "                            ignore_index=True)\n",
    "    return data"
   ]
  },
  {
   "cell_type": "code",
   "execution_count": 3,
   "id": "5434bf27",
   "metadata": {},
   "outputs": [],
   "source": [
    "# each customer starts from initial state entrance / insert this state in the data\n",
    "\n",
    "def inserting_initial_state(data):\n",
    "    min_datetime = data.groupby(\"customer_no\")[\"timestamp\"].first().reset_index()\n",
    "    one_minute = datetime.timedelta(minutes=1)\n",
    "\n",
    "    for i in range(min_datetime.shape[0]):\n",
    "        data = data.append({\"timestamp\": min_datetime[\"timestamp\"].iloc[i] - one_minute, \n",
    "                            \"customer_no\": min_datetime[\"customer_no\"].iloc[i],\n",
    "                            \"location\": \"entrance\"},\n",
    "                            ignore_index=True)\n",
    "    return data"
   ]
  },
  {
   "cell_type": "code",
   "execution_count": 4,
   "id": "ed3f722f",
   "metadata": {},
   "outputs": [],
   "source": [
    "# make customer name unique\n",
    "\n",
    "def cust_no_name(data, weekday):\n",
    "    data[\"customer_no\"] = data[\"customer_no\"].apply(lambda x: str(x)+\"_\"+weekday)\n",
    "    return data"
   ]
  },
  {
   "cell_type": "code",
   "execution_count": 5,
   "id": "8bd6b5b0",
   "metadata": {},
   "outputs": [
    {
     "data": {
      "text/html": [
       "<div>\n",
       "<style scoped>\n",
       "    .dataframe tbody tr th:only-of-type {\n",
       "        vertical-align: middle;\n",
       "    }\n",
       "\n",
       "    .dataframe tbody tr th {\n",
       "        vertical-align: top;\n",
       "    }\n",
       "\n",
       "    .dataframe thead th {\n",
       "        text-align: right;\n",
       "    }\n",
       "</style>\n",
       "<table border=\"1\" class=\"dataframe\">\n",
       "  <thead>\n",
       "    <tr style=\"text-align: right;\">\n",
       "      <th></th>\n",
       "      <th>timestamp</th>\n",
       "      <th>customer_no</th>\n",
       "      <th>location</th>\n",
       "      <th>weekday</th>\n",
       "    </tr>\n",
       "  </thead>\n",
       "  <tbody>\n",
       "    <tr>\n",
       "      <th>0</th>\n",
       "      <td>2019-09-05 07:00:00</td>\n",
       "      <td>1_friday</td>\n",
       "      <td>drinks</td>\n",
       "      <td>friday</td>\n",
       "    </tr>\n",
       "    <tr>\n",
       "      <th>1</th>\n",
       "      <td>2019-09-05 07:01:00</td>\n",
       "      <td>2_friday</td>\n",
       "      <td>fruit</td>\n",
       "      <td>friday</td>\n",
       "    </tr>\n",
       "    <tr>\n",
       "      <th>2</th>\n",
       "      <td>2019-09-05 07:01:00</td>\n",
       "      <td>3_friday</td>\n",
       "      <td>dairy</td>\n",
       "      <td>friday</td>\n",
       "    </tr>\n",
       "    <tr>\n",
       "      <th>3</th>\n",
       "      <td>2019-09-05 07:01:00</td>\n",
       "      <td>4_friday</td>\n",
       "      <td>dairy</td>\n",
       "      <td>friday</td>\n",
       "    </tr>\n",
       "    <tr>\n",
       "      <th>4</th>\n",
       "      <td>2019-09-05 07:02:00</td>\n",
       "      <td>1_friday</td>\n",
       "      <td>checkout</td>\n",
       "      <td>friday</td>\n",
       "    </tr>\n",
       "    <tr>\n",
       "      <th>...</th>\n",
       "      <td>...</td>\n",
       "      <td>...</td>\n",
       "      <td>...</td>\n",
       "      <td>...</td>\n",
       "    </tr>\n",
       "    <tr>\n",
       "      <th>5102</th>\n",
       "      <td>2019-09-05 21:49:00</td>\n",
       "      <td>1534_friday</td>\n",
       "      <td>checkout</td>\n",
       "      <td>friday</td>\n",
       "    </tr>\n",
       "    <tr>\n",
       "      <th>5103</th>\n",
       "      <td>2019-09-05 21:49:00</td>\n",
       "      <td>1535_friday</td>\n",
       "      <td>checkout</td>\n",
       "      <td>friday</td>\n",
       "    </tr>\n",
       "    <tr>\n",
       "      <th>5104</th>\n",
       "      <td>2019-09-05 22:00:00</td>\n",
       "      <td>1532_friday</td>\n",
       "      <td>checkout</td>\n",
       "      <td>friday</td>\n",
       "    </tr>\n",
       "    <tr>\n",
       "      <th>5105</th>\n",
       "      <td>2019-09-05 22:00:00</td>\n",
       "      <td>1533_friday</td>\n",
       "      <td>checkout</td>\n",
       "      <td>friday</td>\n",
       "    </tr>\n",
       "    <tr>\n",
       "      <th>5106</th>\n",
       "      <td>2019-09-05 22:00:00</td>\n",
       "      <td>1527_friday</td>\n",
       "      <td>checkout</td>\n",
       "      <td>friday</td>\n",
       "    </tr>\n",
       "  </tbody>\n",
       "</table>\n",
       "<p>5107 rows × 4 columns</p>\n",
       "</div>"
      ],
      "text/plain": [
       "               timestamp  customer_no  location weekday\n",
       "0    2019-09-05 07:00:00     1_friday    drinks  friday\n",
       "1    2019-09-05 07:01:00     2_friday     fruit  friday\n",
       "2    2019-09-05 07:01:00     3_friday     dairy  friday\n",
       "3    2019-09-05 07:01:00     4_friday     dairy  friday\n",
       "4    2019-09-05 07:02:00     1_friday  checkout  friday\n",
       "...                  ...          ...       ...     ...\n",
       "5102 2019-09-05 21:49:00  1534_friday  checkout  friday\n",
       "5103 2019-09-05 21:49:00  1535_friday  checkout  friday\n",
       "5104 2019-09-05 22:00:00  1532_friday  checkout  friday\n",
       "5105 2019-09-05 22:00:00  1533_friday  checkout  friday\n",
       "5106 2019-09-05 22:00:00  1527_friday  checkout  friday\n",
       "\n",
       "[5107 rows x 4 columns]"
      ]
     },
     "execution_count": 5,
     "metadata": {},
     "output_type": "execute_result"
    }
   ],
   "source": [
    "# read in data for each weekdays\n",
    "\n",
    "monday = pd.read_csv(\"./data/monday.csv\",\n",
    "                     header=0, sep=\";\", parse_dates=True)\n",
    "monday = missing_checkout(monday)\n",
    "monday[\"weekday\"] = \"monday\"\n",
    "cust_no_name(monday, \"monday\")\n",
    "\n",
    "tuesday = pd.read_csv(\"./data/tuesday.csv\",\n",
    "                      header=0, sep=\";\", parse_dates=True)\n",
    "tuesday = missing_checkout(tuesday)\n",
    "tuesday[\"weekday\"] = \"tuesday\"\n",
    "cust_no_name(tuesday, \"tuesday\")\n",
    "\n",
    "wednesday = pd.read_csv(\"./data/wednesday.csv\",\n",
    "                        header=0, sep=\";\", parse_dates=True)\n",
    "wednesday = missing_checkout(wednesday)\n",
    "wednesday[\"weekday\"] = \"wednesday\"\n",
    "cust_no_name(wednesday, \"wednesday\")\n",
    "\n",
    "thursday = pd.read_csv(\"./data/thursday.csv\",\n",
    "                       header=0, sep=\";\", parse_dates=True)\n",
    "thursday = missing_checkout(thursday)\n",
    "thursday[\"weekday\"] = \"thursday\"\n",
    "cust_no_name(thursday, \"thursday\")\n",
    "\n",
    "friday = pd.read_csv(\"./data/thursday.csv\", header=0,\n",
    "                     sep=\";\", parse_dates=True)\n",
    "friday = missing_checkout(friday)\n",
    "friday[\"weekday\"] = \"friday\"\n",
    "cust_no_name(friday, \"friday\")"
   ]
  },
  {
   "cell_type": "code",
   "execution_count": 6,
   "id": "dd0892bc",
   "metadata": {},
   "outputs": [],
   "source": [
    "# concatenate each weekday in one data frame\n",
    "\n",
    "data = pd.concat([monday, tuesday, wednesday, thursday, friday])"
   ]
  },
  {
   "cell_type": "code",
   "execution_count": 7,
   "id": "8cdd512b",
   "metadata": {},
   "outputs": [],
   "source": [
    "# inserting initial state\n",
    "\n",
    "data = inserting_initial_state(data)\n",
    "data.set_index(\"timestamp\", inplace=True)\n",
    "data = data.groupby(\"customer_no\").resample(rule=\"1T\").ffill()"
   ]
  },
  {
   "cell_type": "code",
   "execution_count": 8,
   "id": "7751842d",
   "metadata": {},
   "outputs": [],
   "source": [
    "# reset index to sort correctly\n",
    "\n",
    "del data[\"customer_no\"]\n",
    "data.reset_index(inplace=True)"
   ]
  },
  {
   "cell_type": "code",
   "execution_count": 9,
   "id": "ea27097a",
   "metadata": {},
   "outputs": [],
   "source": [
    "# values need to be sorted inplace, such that we have\n",
    "# correct transitions\n",
    "# calculate next location (transition from one section to the other)\n",
    "\n",
    "data.sort_values([\"customer_no\", \"timestamp\"], inplace=True)\n",
    "data[\"location_next\"] = data[\"location\"].shift(-1)"
   ]
  },
  {
   "cell_type": "code",
   "execution_count": 10,
   "id": "bbd1911a",
   "metadata": {},
   "outputs": [],
   "source": [
    "# checkout will only migrate to checkout!\n",
    "\n",
    "data.loc[(data.location == 'checkout'), 'location_next'] = 'checkout'"
   ]
  },
  {
   "cell_type": "code",
   "execution_count": 11,
   "id": "cac42f41",
   "metadata": {},
   "outputs": [],
   "source": [
    "# collect the final states\n",
    "\n",
    "states = data[[\"location\", \"location_next\"]]"
   ]
  },
  {
   "cell_type": "code",
   "execution_count": 12,
   "id": "8b157cee",
   "metadata": {},
   "outputs": [],
   "source": [
    "# calculate transition matrix\n",
    "\n",
    "transition_matrix = pd.crosstab(data['location'],\n",
    "                                data['location_next'],\n",
    "                                normalize=0)"
   ]
  },
  {
   "cell_type": "code",
   "execution_count": 13,
   "id": "7aa5a0ff",
   "metadata": {},
   "outputs": [
    {
     "data": {
      "text/plain": [
       "location\n",
       "checkout    1.0\n",
       "dairy       1.0\n",
       "drinks      1.0\n",
       "entrance    1.0\n",
       "fruit       1.0\n",
       "spices      1.0\n",
       "dtype: float64"
      ]
     },
     "execution_count": 13,
     "metadata": {},
     "output_type": "execute_result"
    }
   ],
   "source": [
    "# check if the matrix is correct\n",
    "\n",
    "transition_matrix.sum(axis=1)"
   ]
  },
  {
   "cell_type": "code",
   "execution_count": 15,
   "id": "e1a0b832",
   "metadata": {},
   "outputs": [
    {
     "name": "stdout",
     "output_type": "stream",
     "text": [
      "location_next  checkout     dairy    drinks     fruit    spices\n",
      "location                                                       \n",
      "checkout       1.000000  0.000000  0.000000  0.000000  0.000000\n",
      "dairy          0.102043  0.740514  0.056666  0.050058  0.050719\n",
      "drinks         0.217556  0.011395  0.595168  0.088943  0.086938\n",
      "entrance       0.000000  0.293976  0.150870  0.373494  0.181660\n",
      "fruit          0.204200  0.092540  0.052265  0.599906  0.051089\n",
      "spices         0.149425  0.193198  0.159660  0.088805  0.408912\n"
     ]
    }
   ],
   "source": [
    "# export the transition prob matrix to csv\n",
    "\n",
    "transition_matrix.to_csv(\"./data/transition_matrix.csv\")\n",
    "print(transition_matrix)"
   ]
  },
  {
   "cell_type": "code",
   "execution_count": null,
   "id": "510237be",
   "metadata": {},
   "outputs": [],
   "source": []
  }
 ],
 "metadata": {
  "kernelspec": {
   "display_name": "Python 3 (ipykernel)",
   "language": "python",
   "name": "python3"
  },
  "language_info": {
   "codemirror_mode": {
    "name": "ipython",
    "version": 3
   },
   "file_extension": ".py",
   "mimetype": "text/x-python",
   "name": "python",
   "nbconvert_exporter": "python",
   "pygments_lexer": "ipython3",
   "version": "3.9.7"
  }
 },
 "nbformat": 4,
 "nbformat_minor": 5
}

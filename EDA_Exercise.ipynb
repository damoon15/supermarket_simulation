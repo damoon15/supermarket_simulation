{
 "cells": [
  {
   "cell_type": "code",
   "execution_count": 5,
   "id": "fb4329bf",
   "metadata": {},
   "outputs": [],
   "source": [
    "import pandas as pd\n",
    "import numpy as np\n",
    "import os\n",
    "import glob\n",
    "import seaborn as sns\n"
   ]
  },
  {
   "cell_type": "code",
   "execution_count": 2,
   "id": "44132d06",
   "metadata": {},
   "outputs": [],
   "source": [
    "data_mon = pd.read_csv('data/monday.csv', parse_dates=True, index_col=0, sep=';')\n",
    "data_tue = pd.read_csv('data/tuesday.csv', parse_dates=True, index_col=0, sep=';')\n",
    "data_wed = pd.read_csv('data/wednesday.csv', parse_dates=True, index_col=0, sep=';')\n",
    "data_thu = pd.read_csv('data/thursday.csv', parse_dates=True, index_col=0, sep=';')\n",
    "data_fri = pd.read_csv('data/friday.csv', parse_dates=True, index_col=0, sep=';')"
   ]
  },
  {
   "cell_type": "code",
   "execution_count": 3,
   "outputs": [
    {
     "data": {
      "text/plain": "                     customer_no  location\ntimestamp                                 \n2019-09-02 07:03:00            1     dairy\n2019-09-02 07:03:00            2     dairy\n2019-09-02 07:04:00            3     dairy\n2019-09-02 07:04:00            4     dairy\n2019-09-02 07:04:00            5    spices\n...                          ...       ...\n2019-09-02 21:49:00         1442  checkout\n2019-09-02 21:49:00         1444  checkout\n2019-09-02 21:49:00         1445     dairy\n2019-09-02 21:50:00         1446     dairy\n2019-09-02 21:50:00         1447     fruit\n\n[4884 rows x 2 columns]",
      "text/html": "<div>\n<style scoped>\n    .dataframe tbody tr th:only-of-type {\n        vertical-align: middle;\n    }\n\n    .dataframe tbody tr th {\n        vertical-align: top;\n    }\n\n    .dataframe thead th {\n        text-align: right;\n    }\n</style>\n<table border=\"1\" class=\"dataframe\">\n  <thead>\n    <tr style=\"text-align: right;\">\n      <th></th>\n      <th>customer_no</th>\n      <th>location</th>\n    </tr>\n    <tr>\n      <th>timestamp</th>\n      <th></th>\n      <th></th>\n    </tr>\n  </thead>\n  <tbody>\n    <tr>\n      <th>2019-09-02 07:03:00</th>\n      <td>1</td>\n      <td>dairy</td>\n    </tr>\n    <tr>\n      <th>2019-09-02 07:03:00</th>\n      <td>2</td>\n      <td>dairy</td>\n    </tr>\n    <tr>\n      <th>2019-09-02 07:04:00</th>\n      <td>3</td>\n      <td>dairy</td>\n    </tr>\n    <tr>\n      <th>2019-09-02 07:04:00</th>\n      <td>4</td>\n      <td>dairy</td>\n    </tr>\n    <tr>\n      <th>2019-09-02 07:04:00</th>\n      <td>5</td>\n      <td>spices</td>\n    </tr>\n    <tr>\n      <th>...</th>\n      <td>...</td>\n      <td>...</td>\n    </tr>\n    <tr>\n      <th>2019-09-02 21:49:00</th>\n      <td>1442</td>\n      <td>checkout</td>\n    </tr>\n    <tr>\n      <th>2019-09-02 21:49:00</th>\n      <td>1444</td>\n      <td>checkout</td>\n    </tr>\n    <tr>\n      <th>2019-09-02 21:49:00</th>\n      <td>1445</td>\n      <td>dairy</td>\n    </tr>\n    <tr>\n      <th>2019-09-02 21:50:00</th>\n      <td>1446</td>\n      <td>dairy</td>\n    </tr>\n    <tr>\n      <th>2019-09-02 21:50:00</th>\n      <td>1447</td>\n      <td>fruit</td>\n    </tr>\n  </tbody>\n</table>\n<p>4884 rows × 2 columns</p>\n</div>"
     },
     "execution_count": 3,
     "metadata": {},
     "output_type": "execute_result"
    }
   ],
   "source": [
    "data_mon"
   ],
   "metadata": {
    "collapsed": false,
    "pycharm": {
     "name": "#%%\n"
    }
   }
  },
  {
   "cell_type": "markdown",
   "source": [
    "## Calculate the total number of customers in each section"
   ],
   "metadata": {
    "collapsed": false,
    "pycharm": {
     "name": "#%% md\n"
    }
   }
  },
  {
   "cell_type": "code",
   "execution_count": 19,
   "id": "f51d2696",
   "metadata": {},
   "outputs": [
    {
     "name": "stdout",
     "output_type": "stream",
     "text": [
      "          customer_no\n",
      "location             \n",
      "checkout         7417\n",
      "dairy            4679\n",
      "drinks           3905\n",
      "fruit            5122\n",
      "spices           3754\n"
     ]
    }
   ],
   "source": [
    "data = pd.concat([data_mon, data_tue, data_wed, data_thu, data_fri])\n",
    "d = data.groupby('location')\n",
    "bar_data = d.count()\n",
    "print(d.count())"
   ]
  },
  {
   "cell_type": "code",
   "execution_count": 23,
   "outputs": [
    {
     "data": {
      "text/plain": "Index(['checkout', 'dairy', 'drinks', 'fruit', 'spices'], dtype='object', name='location')"
     },
     "execution_count": 23,
     "metadata": {},
     "output_type": "execute_result"
    }
   ],
   "source": [
    "bar_data.index"
   ],
   "metadata": {
    "collapsed": false,
    "pycharm": {
     "name": "#%%\n"
    }
   }
  },
  {
   "cell_type": "code",
   "execution_count": 24,
   "outputs": [
    {
     "data": {
      "text/plain": "<Figure size 432x288 with 1 Axes>",
      "image/png": "[encoded data removed]"
     },
     "metadata": {
      "needs_background": "light"
     },
     "output_type": "display_data"
    }
   ],
   "source": [
    "ax = sns.barplot(x=bar_data.index, y='customer_no', data=bar_data)"
   ],
   "metadata": {
    "collapsed": false,
    "pycharm": {
     "name": "#%%\n"
    }
   }
  },
  {
   "cell_type": "markdown",
   "source": [
    "## Calculate the total number of customers in each section over time"
   ],
   "metadata": {
    "collapsed": false,
    "pycharm": {
     "name": "#%% md\n"
    }
   }
  },
  {
   "cell_type": "markdown",
   "source": [],
   "metadata": {
    "collapsed": false
   }
  },
  {
   "cell_type": "code",
   "execution_count": null,
   "outputs": [],
   "source": [],
   "metadata": {
    "collapsed": false,
    "pycharm": {
     "name": "#%%\n"
    }
   }
  },
  {
   "cell_type": "markdown",
   "source": [],
   "metadata": {
    "collapsed": false
   }
  },
  {
   "cell_type": "code",
   "execution_count": 39,
   "outputs": [],
   "source": [
    "day_dic = {2:'monday', 3:'tuesday', 4:'wednesday', 5:'thursday', 6:'friday'}\n",
    "s = pd.Series(day_dic)\n",
    "s_new = s[data.index.day]\n",
    "s_new.index = data.index\n",
    "data['day'] = s_new"
   ],
   "metadata": {
    "collapsed": false,
    "pycharm": {
     "name": "#%%\n"
    }
   }
  },
  {
   "cell_type": "code",
   "execution_count": 93,
   "outputs": [],
   "source": [
    "data['day'] = s_new"
   ],
   "metadata": {
    "collapsed": false,
    "pycharm": {
     "name": "#%%\n"
    }
   }
  },
  {
   "cell_type": "code",
   "execution_count": 94,
   "outputs": [
    {
     "data": {
      "text/plain": "                     customer_no  location     day\ntimestamp                                         \n2019-09-02 07:03:00            1     dairy  monday\n2019-09-02 07:03:00            2     dairy  monday\n2019-09-02 07:04:00            3     dairy  monday\n2019-09-02 07:04:00            4     dairy  monday\n2019-09-02 07:04:00            5    spices  monday\n...                          ...       ...     ...\n2019-09-06 21:50:00         1500     dairy  friday\n2019-09-06 21:50:00         1507  checkout  friday\n2019-09-06 21:50:00         1508  checkout  friday\n2019-09-06 21:50:00         1509    drinks  friday\n2019-09-06 21:50:00         1510    spices  friday\n\n[24877 rows x 3 columns]",
      "text/html": "<div>\n<style scoped>\n    .dataframe tbody tr th:only-of-type {\n        vertical-align: middle;\n    }\n\n    .dataframe tbody tr th {\n        vertical-align: top;\n    }\n\n    .dataframe thead th {\n        text-align: right;\n    }\n</style>\n<table border=\"1\" class=\"dataframe\">\n  <thead>\n    <tr style=\"text-align: right;\">\n      <th></th>\n      <th>customer_no</th>\n      <th>location</th>\n      <th>day</th>\n    </tr>\n    <tr>\n      <th>timestamp</th>\n      <th></th>\n      <th></th>\n      <th></th>\n    </tr>\n  </thead>\n  <tbody>\n    <tr>\n      <th>2019-09-02 07:03:00</th>\n      <td>1</td>\n      <td>dairy</td>\n      <td>monday</td>\n    </tr>\n    <tr>\n      <th>2019-09-02 07:03:00</th>\n      <td>2</td>\n      <td>dairy</td>\n      <td>monday</td>\n    </tr>\n    <tr>\n      <th>2019-09-02 07:04:00</th>\n      <td>3</td>\n      <td>dairy</td>\n      <td>monday</td>\n    </tr>\n    <tr>\n      <th>2019-09-02 07:04:00</th>\n      <td>4</td>\n      <td>dairy</td>\n      <td>monday</td>\n    </tr>\n    <tr>\n      <th>2019-09-02 07:04:00</th>\n      <td>5</td>\n      <td>spices</td>\n      <td>monday</td>\n    </tr>\n    <tr>\n      <th>...</th>\n      <td>...</td>\n      <td>...</td>\n      <td>...</td>\n    </tr>\n    <tr>\n      <th>2019-09-06 21:50:00</th>\n      <td>1500</td>\n      <td>dairy</td>\n      <td>friday</td>\n    </tr>\n    <tr>\n      <th>2019-09-06 21:50:00</th>\n      <td>1507</td>\n      <td>checkout</td>\n      <td>friday</td>\n    </tr>\n    <tr>\n      <th>2019-09-06 21:50:00</th>\n      <td>1508</td>\n      <td>checkout</td>\n      <td>friday</td>\n    </tr>\n    <tr>\n      <th>2019-09-06 21:50:00</th>\n      <td>1509</td>\n      <td>drinks</td>\n      <td>friday</td>\n    </tr>\n    <tr>\n      <th>2019-09-06 21:50:00</th>\n      <td>1510</td>\n      <td>spices</td>\n      <td>friday</td>\n    </tr>\n  </tbody>\n</table>\n<p>24877 rows × 3 columns</p>\n</div>"
     },
     "execution_count": 94,
     "metadata": {},
     "output_type": "execute_result"
    }
   ],
   "source": [
    "data"
   ],
   "metadata": {
    "collapsed": false,
    "pycharm": {
     "name": "#%%\n"
    }
   }
  },
  {
   "cell_type": "code",
   "execution_count": 106,
   "id": "6976bdd3",
   "metadata": {},
   "outputs": [
    {
     "name": "stdout",
     "output_type": "stream",
     "text": [
      "                    customer_no\n",
      "day       location             \n",
      "friday    checkout         1502\n",
      "          dairy             932\n",
      "          drinks            844\n",
      "          fruit            1057\n",
      "          spices            790\n",
      "monday    checkout         1437\n",
      "          dairy             895\n",
      "          drinks            797\n",
      "          fruit            1005\n",
      "          spices            750\n",
      "thursday  checkout         1532\n",
      "          dairy             965\n",
      "          drinks            776\n",
      "          fruit            1041\n",
      "          spices            790\n",
      "tuesday   checkout         1420\n",
      "          dairy             911\n",
      "          drinks            713\n",
      "          fruit             976\n",
      "          spices            694\n",
      "wednesday checkout         1526\n",
      "          dairy             976\n",
      "          drinks            775\n",
      "          fruit            1043\n",
      "          spices            730\n"
     ]
    }
   ],
   "source": [
    "d_day = data.groupby(['day', 'location'])\n",
    "d_day_count = d_day.count()\n",
    "print(d_day_count)"
   ]
  },
  {
   "cell_type": "code",
   "execution_count": null,
   "outputs": [],
   "source": [],
   "metadata": {
    "collapsed": false,
    "pycharm": {
     "name": "#%%\n"
    }
   }
  },
  {
   "cell_type": "code",
   "execution_count": 119,
   "outputs": [],
   "source": [
    "d_day_count.reset_index(inplace=True)\n"
   ],
   "metadata": {
    "collapsed": false,
    "pycharm": {
     "name": "#%%\n"
    }
   }
  },
  {
   "cell_type": "code",
   "execution_count": 120,
   "outputs": [
    {
     "data": {
      "text/plain": "<AxesSubplot:xlabel='day', ylabel='customer_no'>"
     },
     "execution_count": 120,
     "metadata": {},
     "output_type": "execute_result"
    },
    {
     "data": {
      "text/plain": "<Figure size 432x288 with 1 Axes>",
      "image/png": "[encoded data removed]"
     },
     "metadata": {
      "needs_background": "light"
     },
     "output_type": "display_data"
    }
   ],
   "source": [
    "sns.barplot(x='day', y='customer_no', data=d_day_count, hue='location')"
   ],
   "metadata": {
    "collapsed": false,
    "pycharm": {
     "name": "#%%\n"
    }
   }
  },
  {
   "cell_type": "markdown",
   "source": [
    "## Display the number of customers at checkout over time"
   ],
   "metadata": {
    "collapsed": false,
    "pycharm": {
     "name": "#%% md\n"
    }
   }
  },
  {
   "cell_type": "code",
   "execution_count": 138,
   "id": "53a86d4f",
   "metadata": {},
   "outputs": [
    {
     "name": "stdout",
     "output_type": "stream",
     "text": [
      "         day  location  customer_no\n",
      "1     monday  checkout         1437\n",
      "3    tuesday  checkout         1420\n",
      "4  wednesday  checkout         1526\n",
      "2   thursday  checkout         1532\n",
      "0     friday  checkout         1502\n"
     ]
    }
   ],
   "source": [
    "data_ch = data[data['location']=='checkout'].groupby(['day', 'location']).count()\n",
    "data_ch.reset_index(inplace=True)\n",
    "data_ch = data_ch.reindex([1, 3, 4, 2, 0])\n",
    "print(data_ch)"
   ]
  },
  {
   "cell_type": "code",
   "execution_count": 144,
   "outputs": [
    {
     "data": {
      "text/plain": "Text(0.5, 1.0, 'Number of checkouts per day')"
     },
     "execution_count": 144,
     "metadata": {},
     "output_type": "execute_result"
    },
    {
     "data": {
      "text/plain": "<Figure size 432x288 with 1 Axes>",
      "image/png": "[encoded data removed]"
     },
     "metadata": {
      "needs_background": "light"
     },
     "output_type": "display_data"
    }
   ],
   "source": [
    "ax = sns.barplot(x='day', y='customer_no', data=data_ch)\n",
    "ax.set_title('Number of checkouts per day')"
   ],
   "metadata": {
    "collapsed": false,
    "pycharm": {
     "name": "#%%\n"
    }
   }
  },
  {
   "cell_type": "markdown",
   "source": [
    "## Calculate the time each customer spent in the market"
   ],
   "metadata": {
    "collapsed": false,
    "pycharm": {
     "name": "#%% md\n"
    }
   }
  },
  {
   "cell_type": "code",
   "execution_count": null,
   "outputs": [],
   "source": [],
   "metadata": {
    "collapsed": false,
    "pycharm": {
     "name": "#%%\n"
    }
   }
  },
  {
   "cell_type": "code",
   "execution_count": 10,
   "id": "b926d918",
   "metadata": {},
   "outputs": [
    {
     "name": "stdout",
     "output_type": "stream",
     "text": [
      "     customer_ID  duration(m)\n",
      "0        1000_fr            1\n",
      "1        1000_mo            7\n",
      "2        1000_th           10\n",
      "3        1000_tu            4\n",
      "4        1000_we           13\n",
      "...          ...          ...\n",
      "7440        9_fr            3\n",
      "7441        9_mo            7\n",
      "7442        9_th            2\n",
      "7443        9_tu           20\n",
      "7444        9_we            1\n",
      "\n",
      "[7445 rows x 2 columns]\n"
     ]
    }
   ],
   "source": [
    "dic = {2:'mo', 3:'tu', 4:'we', 5:'th', 6:'fr'}\n",
    "#data['customer_ID'] =[dic[k] for k in data['day']]  + data['customer_no'].astype(str)\n",
    "data['customer_ID'] = data['customer_no'].astype(str)+ '_'+  [dic[k] for k in data['day']]\n",
    "g = data.groupby('customer_ID')\n",
    "list_t = []\n",
    "list_ID = []\n",
    "for i, group in g:\n",
    "    difference_minute = group.index.minute[len(group.index)-1]-group.index.minute[0]\n",
    "    difference_hour = group.index.hour[len(group.index) - 1] - group.index.hour[0]\n",
    "    duration = difference_hour*60 + difference_minute\n",
    "    list_t.append(duration)\n",
    "    list_ID.append(i)\n",
    "ID_time_table = pd.DataFrame({'customer_ID':list_ID, 'duration(m)':list_t})\n",
    "print(ID_time_table)"
   ]
  },
  {
   "cell_type": "code",
   "execution_count": null,
   "outputs": [],
   "source": [],
   "metadata": {
    "collapsed": false,
    "pycharm": {
     "name": "#%%\n"
    }
   }
  },
  {
   "cell_type": "markdown",
   "source": [
    "## Calculate the total number of customers in the supermarket over time."
   ],
   "metadata": {
    "collapsed": false,
    "pycharm": {
     "name": "#%% md\n"
    }
   }
  },
  {
   "cell_type": "code",
   "execution_count": 146,
   "id": "11c5e4cf",
   "metadata": {},
   "outputs": [
    {
     "name": "stdout",
     "output_type": "stream",
     "text": [
      "           customer_no  location\n",
      "day                             \n",
      "friday            5125      5125\n",
      "monday            4884      4884\n",
      "thursday          5104      5104\n",
      "tuesday           4714      4714\n",
      "wednesday         5050      5050\n"
     ]
    }
   ],
   "source": [
    "d_total = data.groupby(['day']).count()\n",
    "d_total = d_total.reindex()\n",
    "print(d_total)"
   ]
  },
  {
   "cell_type": "code",
   "execution_count": 149,
   "id": "ffc301af",
   "metadata": {},
   "outputs": [],
   "source": [
    "d_total = d_total.reindex(['monday', 'tuesday', 'wednesday', 'thursday', 'friday'])"
   ]
  },
  {
   "cell_type": "code",
   "execution_count": 152,
   "outputs": [
    {
     "data": {
      "text/plain": "Index(['monday', 'tuesday', 'wednesday', 'thursday', 'friday'], dtype='object', name='day')"
     },
     "execution_count": 152,
     "metadata": {},
     "output_type": "execute_result"
    }
   ],
   "source": [
    "d_total.index"
   ],
   "metadata": {
    "collapsed": false,
    "pycharm": {
     "name": "#%%\n"
    }
   }
  },
  {
   "cell_type": "code",
   "execution_count": 153,
   "outputs": [
    {
     "data": {
      "text/plain": "<Figure size 432x288 with 1 Axes>",
      "image/png": "[encoded data removed]"
     },
     "metadata": {
      "needs_background": "light"
     },
     "output_type": "display_data"
    }
   ],
   "source": [
    "ax = sns.barplot(x=d_total.index, y='customer_no', data=d_total)"
   ],
   "metadata": {
    "collapsed": false,
    "pycharm": {
     "name": "#%%\n"
    }
   }
  },
  {
   "cell_type": "markdown",
   "source": [
    "## Our business managers think that the first section customers visit follows a different pattern than the following ones. Plot the distribution of customers of their first visited section versus following sections (treat all sections visited after the first as “following”)."
   ],
   "metadata": {
    "collapsed": false,
    "pycharm": {
     "name": "#%% md\n"
    }
   }
  },
  {
   "cell_type": "code",
   "execution_count": null,
   "outputs": [],
   "source": [],
   "metadata": {
    "collapsed": false,
    "pycharm": {
     "name": "#%%\n"
    }
   }
  }
 ],
 "metadata": {
  "kernelspec": {
   "display_name": "Python 3 (ipykernel)",
   "language": "python",
   "name": "python3"
  },
  "language_info": {
   "codemirror_mode": {
    "name": "ipython",
    "version": 3
   },
   "file_extension": ".py",
   "mimetype": "text/x-python",
   "name": "python",
   "nbconvert_exporter": "python",
   "pygments_lexer": "ipython3",
   "version": "3.9.7"
  }
 },
 "nbformat": 4,
 "nbformat_minor": 5
}